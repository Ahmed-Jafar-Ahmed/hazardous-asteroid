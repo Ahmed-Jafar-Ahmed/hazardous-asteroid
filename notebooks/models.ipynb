{
 "cells": [
  {
   "cell_type": "markdown",
   "id": "eb82bed3",
   "metadata": {},
   "source": [
    "The objective of this notebook is to choose a model for predicting if it is hazardous. To be complete it has to achieve these objectives.\n",
    "- the model has to have the highest F1 score because in the context of predicting a potentially hazardous asteroid a false negative would be very deadly, and a false positive would not be ideal\n",
    "- We will use RandomizedSearchCV because it is fast and randomized without being exhaustive "
   ]
  },
  {
   "cell_type": "code",
   "execution_count": 9,
   "id": "d4461eb5",
   "metadata": {},
   "outputs": [],
   "source": [
    "import pandas as pd\n",
    "from sklearn.model_selection import train_test_split, RandomizedSearchCV\n",
    "from sklearn.ensemble import RandomForestClassifier\n",
    "from sklearn.metrics import classification_report, f1_score\n",
    "from src.pipeline import build_pipeline"
   ]
  },
  {
   "cell_type": "markdown",
   "id": "aa4fc8bb",
   "metadata": {},
   "source": [
    "Next We will load the data and process using the pipeline."
   ]
  },
  {
   "cell_type": "code",
   "execution_count": 12,
   "id": "23125d3e",
   "metadata": {},
   "outputs": [
    {
     "name": "stderr",
     "output_type": "stream",
     "text": [
      "/var/folders/20/c46fqz652sjfpnm1mf8ssp5m0000gn/T/ipykernel_62238/538008766.py:1: DtypeWarning: Columns (0,1) have mixed types. Specify dtype option on import or set low_memory=False.\n",
      "  data = pd.read_csv('../data/raw/asteroids_data.csv')\n"
     ]
    }
   ],
   "source": [
    "data = pd.read_csv('../data/raw/asteroids_data.csv')"
   ]
  },
  {
   "cell_type": "code",
   "execution_count": null,
   "id": "67ffa1c2",
   "metadata": {},
   "outputs": [],
   "source": [
    "pipeline = build_pipeline()\n",
    "X = data.drop(columns=['is_potentially_hazardous_asteroid'])\n",
    "y = data['is_potentially_hazardous_asteroid']\n"
   ]
  },
  {
   "cell_type": "code",
   "execution_count": null,
   "id": "757016e9",
   "metadata": {},
   "outputs": [],
   "source": [
    "X_train, X_test, y_train, y_test = train_test_split(X, y, test_size=0.2, random_state=42, stratify=y)"
   ]
  }
 ],
 "metadata": {
  "kernelspec": {
   "display_name": "Python 3",
   "language": "python",
   "name": "python3"
  },
  "language_info": {
   "codemirror_mode": {
    "name": "ipython",
    "version": 3
   },
   "file_extension": ".py",
   "mimetype": "text/x-python",
   "name": "python",
   "nbconvert_exporter": "python",
   "pygments_lexer": "ipython3",
   "version": "3.13.6"
  }
 },
 "nbformat": 4,
 "nbformat_minor": 5
}
