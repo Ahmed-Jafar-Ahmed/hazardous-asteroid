{
 "cells": [
  {
   "cell_type": "markdown",
   "id": "52dc20f6",
   "metadata": {},
   "source": [
    "This notebooks will be finished when:\n",
    "- The datetime column is split into Year, Month, Day\n",
    "- We will combine the estimated diameter min and max columns\n",
    "- And we will return the dataset containing only the data for training the model"
   ]
  },
  {
   "cell_type": "code",
   "execution_count": 50,
   "id": "d2599cfa",
   "metadata": {},
   "outputs": [],
   "source": [
    "import pandas as pd\n",
    "from sklearn.preprocessing import StandardScaler, MinMaxScaler, RobustScaler, Normalizer\n"
   ]
  },
  {
   "cell_type": "markdown",
   "id": "c4bde856",
   "metadata": {},
   "source": [
    "After importing the needed libraries and reading the dataset file we will start the checklist."
   ]
  },
  {
   "cell_type": "code",
   "execution_count": 51,
   "id": "e9a945ce",
   "metadata": {},
   "outputs": [],
   "source": [
    "df = pd.read_csv('../data/processed/p_asteroids.csv')"
   ]
  },
  {
   "cell_type": "markdown",
   "id": "6424b73e",
   "metadata": {},
   "source": [
    "We will turn the close approach date field into the corresponding year, month, day columns."
   ]
  },
  {
   "cell_type": "code",
   "execution_count": 52,
   "id": "2cc63087",
   "metadata": {},
   "outputs": [],
   "source": [
    "df['close_approach_date'] = pd.to_datetime(df['close_approach_date'], errors='coerce')\n",
    "df['year'] = df['close_approach_date'].dt.year\n",
    "df['month'] = df['close_approach_date'].dt.month\n",
    "df['day'] = df['close_approach_date'].dt.dayofyear\n"
   ]
  },
  {
   "cell_type": "markdown",
   "id": "f0211173",
   "metadata": {},
   "source": [
    "Now we will create the estimated diameter range."
   ]
  },
  {
   "cell_type": "code",
   "execution_count": 53,
   "id": "b4c255ec",
   "metadata": {},
   "outputs": [],
   "source": [
    "df['estimated_diameter_range'] = df['estimated_diameter_kilometers_estimated_diameter_max'] - df['estimated_diameter_kilometers_estimated_diameter_min']"
   ]
  },
  {
   "cell_type": "markdown",
   "id": "5ba691a0",
   "metadata": {},
   "source": [
    "Now we will get one more look at the dataset and choose the columns to return to the feature engineered file."
   ]
  },
  {
   "cell_type": "code",
   "execution_count": 54,
   "id": "243b1d26",
   "metadata": {},
   "outputs": [
    {
     "name": "stdout",
     "output_type": "stream",
     "text": [
      "<class 'pandas.core.frame.DataFrame'>\n",
      "RangeIndex: 40256 entries, 0 to 40255\n",
      "Data columns (total 12 columns):\n",
      " #   Column                                                Non-Null Count  Dtype         \n",
      "---  ------                                                --------------  -----         \n",
      " 0   id                                                    40256 non-null  object        \n",
      " 1   absolute_magnitude_h                                  40256 non-null  float64       \n",
      " 2   estimated_diameter_kilometers_estimated_diameter_min  40256 non-null  float64       \n",
      " 3   estimated_diameter_kilometers_estimated_diameter_max  40256 non-null  float64       \n",
      " 4   is_potentially_hazardous_asteroid                     40256 non-null  int64         \n",
      " 5   close_approach_date                                   40256 non-null  datetime64[ns]\n",
      " 6   relative_velocity_km_per_hr                           40256 non-null  float64       \n",
      " 7   miss_distance_kilometers                              40256 non-null  float64       \n",
      " 8   year                                                  40256 non-null  int32         \n",
      " 9   month                                                 40256 non-null  int32         \n",
      " 10  day                                                   40256 non-null  int32         \n",
      " 11  estimated_diameter_range                              40256 non-null  float64       \n",
      "dtypes: datetime64[ns](1), float64(6), int32(3), int64(1), object(1)\n",
      "memory usage: 3.2+ MB\n"
     ]
    }
   ],
   "source": [
    "df.info()"
   ]
  },
  {
   "cell_type": "code",
   "execution_count": null,
   "id": "482c8eb6",
   "metadata": {},
   "outputs": [],
   "source": [
    "data = df[['absolute_magnitude_h','relative_velocity_km_per_hr', 'miss_distance_kilometers', 'year', 'month', 'day', 'estimated_diameter_range', 'is_potentially_hazardous_asteroid']]\n",
    "\n"
   ]
  },
  {
   "cell_type": "code",
   "execution_count": null,
   "id": "025df5a8",
   "metadata": {},
   "outputs": [
    {
     "data": {
      "text/html": [
       "<div>\n",
       "<style scoped>\n",
       "    .dataframe tbody tr th:only-of-type {\n",
       "        vertical-align: middle;\n",
       "    }\n",
       "\n",
       "    .dataframe tbody tr th {\n",
       "        vertical-align: top;\n",
       "    }\n",
       "\n",
       "    .dataframe thead th {\n",
       "        text-align: right;\n",
       "    }\n",
       "</style>\n",
       "<table border=\"1\" class=\"dataframe\">\n",
       "  <thead>\n",
       "    <tr style=\"text-align: right;\">\n",
       "      <th></th>\n",
       "      <th>absolute_magnitude_h</th>\n",
       "      <th>relative_velocity_km_per_hr</th>\n",
       "      <th>miss_distance_kilometers</th>\n",
       "      <th>year</th>\n",
       "      <th>month</th>\n",
       "      <th>day</th>\n",
       "      <th>estimated_diameter_range</th>\n",
       "      <th>is_potentially_hazardous_asteroid</th>\n",
       "    </tr>\n",
       "  </thead>\n",
       "  <tbody>\n",
       "    <tr>\n",
       "      <th>0</th>\n",
       "      <td>-2.344090</td>\n",
       "      <td>-1.050462</td>\n",
       "      <td>0.083304</td>\n",
       "      <td>-1.219021</td>\n",
       "      <td>1.541236</td>\n",
       "      <td>1.640065</td>\n",
       "      <td>48.622641</td>\n",
       "      <td>0</td>\n",
       "    </tr>\n",
       "    <tr>\n",
       "      <th>1</th>\n",
       "      <td>-1.441292</td>\n",
       "      <td>-1.348809</td>\n",
       "      <td>3.812080</td>\n",
       "      <td>-1.036463</td>\n",
       "      <td>0.421086</td>\n",
       "      <td>0.463627</td>\n",
       "      <td>4.186406</td>\n",
       "      <td>0</td>\n",
       "    </tr>\n",
       "    <tr>\n",
       "      <th>2</th>\n",
       "      <td>-1.750922</td>\n",
       "      <td>-0.838186</td>\n",
       "      <td>-0.393279</td>\n",
       "      <td>0.282009</td>\n",
       "      <td>-1.539177</td>\n",
       "      <td>-1.641096</td>\n",
       "      <td>9.877925</td>\n",
       "      <td>0</td>\n",
       "    </tr>\n",
       "    <tr>\n",
       "      <th>3</th>\n",
       "      <td>-2.556308</td>\n",
       "      <td>-0.949001</td>\n",
       "      <td>4.474138</td>\n",
       "      <td>-1.016179</td>\n",
       "      <td>-1.259140</td>\n",
       "      <td>-1.163168</td>\n",
       "      <td>85.501136</td>\n",
       "      <td>0</td>\n",
       "    </tr>\n",
       "    <tr>\n",
       "      <th>4</th>\n",
       "      <td>-1.131662</td>\n",
       "      <td>-0.324170</td>\n",
       "      <td>-0.267189</td>\n",
       "      <td>-1.056747</td>\n",
       "      <td>-0.979102</td>\n",
       "      <td>-0.997731</td>\n",
       "      <td>1.678980</td>\n",
       "      <td>0</td>\n",
       "    </tr>\n",
       "  </tbody>\n",
       "</table>\n",
       "</div>"
      ],
      "text/plain": [
       "   absolute_magnitude_h  relative_velocity_km_per_hr  \\\n",
       "0             -2.344090                    -1.050462   \n",
       "1             -1.441292                    -1.348809   \n",
       "2             -1.750922                    -0.838186   \n",
       "3             -2.556308                    -0.949001   \n",
       "4             -1.131662                    -0.324170   \n",
       "\n",
       "   miss_distance_kilometers      year     month       day  \\\n",
       "0                  0.083304 -1.219021  1.541236  1.640065   \n",
       "1                  3.812080 -1.036463  0.421086  0.463627   \n",
       "2                 -0.393279  0.282009 -1.539177 -1.641096   \n",
       "3                  4.474138 -1.016179 -1.259140 -1.163168   \n",
       "4                 -0.267189 -1.056747 -0.979102 -0.997731   \n",
       "\n",
       "   estimated_diameter_range  is_potentially_hazardous_asteroid  \n",
       "0                 48.622641                                  0  \n",
       "1                  4.186406                                  0  \n",
       "2                  9.877925                                  0  \n",
       "3                 85.501136                                  0  \n",
       "4                  1.678980                                  0  "
      ]
     },
     "execution_count": 56,
     "metadata": {},
     "output_type": "execute_result"
    }
   ],
   "source": [
    "data.head()"
   ]
  },
  {
   "cell_type": "markdown",
   "id": "57d26631",
   "metadata": {},
   "source": []
  }
 ],
 "metadata": {
  "kernelspec": {
   "display_name": "Python 3",
   "language": "python",
   "name": "python3"
  },
  "language_info": {
   "codemirror_mode": {
    "name": "ipython",
    "version": 3
   },
   "file_extension": ".py",
   "mimetype": "text/x-python",
   "name": "python",
   "nbconvert_exporter": "python",
   "pygments_lexer": "ipython3",
   "version": "3.13.6"
  }
 },
 "nbformat": 4,
 "nbformat_minor": 5
}
