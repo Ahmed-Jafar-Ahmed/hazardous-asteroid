{
 "cells": [
  {
   "cell_type": "markdown",
   "id": "52dc20f6",
   "metadata": {},
   "source": [
    "This notebooks will be finished when:\n",
    "- The datetime column is split into Year, Month, Day\n",
    "- We will combine the estimated diameter min and max columns\n",
    "- And we will return the dataset containing only the data for training the model"
   ]
  },
  {
   "cell_type": "code",
   "execution_count": 1,
   "id": "d2599cfa",
   "metadata": {},
   "outputs": [],
   "source": [
    "import pandas as pd\n"
   ]
  },
  {
   "cell_type": "markdown",
   "id": "c4bde856",
   "metadata": {},
   "source": [
    "After importing the needed libraries and reading the dataset file we will start the checklist."
   ]
  },
  {
   "cell_type": "code",
   "execution_count": 2,
   "id": "e9a945ce",
   "metadata": {},
   "outputs": [],
   "source": [
    "df = pd.read_csv('../data/processed/p_asteroids.csv')"
   ]
  },
  {
   "cell_type": "markdown",
   "id": "6424b73e",
   "metadata": {},
   "source": [
    "We will turn the close approach date field into the corresponding year, month, day columns."
   ]
  },
  {
   "cell_type": "code",
   "execution_count": 3,
   "id": "2cc63087",
   "metadata": {},
   "outputs": [],
   "source": [
    "df['close_approach_date'] = pd.to_datetime(df['close_approach_date'], errors='coerce')\n",
    "df['year'] = df['close_approach_date'].dt.year\n",
    "df['month'] = df['close_approach_date'].dt.month\n",
    "df['day'] = df['close_approach_date'].dt.dayofyear\n"
   ]
  },
  {
   "cell_type": "markdown",
   "id": "f0211173",
   "metadata": {},
   "source": [
    "Now we will create the estimated diameter range."
   ]
  },
  {
   "cell_type": "code",
   "execution_count": 4,
   "id": "b4c255ec",
   "metadata": {},
   "outputs": [],
   "source": [
    "df['estimated_diameter_range'] = df['estimated_diameter_kilometers_estimated_diameter_max'] - df['estimated_diameter_kilometers_estimated_diameter_min']"
   ]
  },
  {
   "cell_type": "markdown",
   "id": "5ba691a0",
   "metadata": {},
   "source": [
    "Now we will get one more look at the dataset and choose the columns to return to the feature engineered file."
   ]
  },
  {
   "cell_type": "code",
   "execution_count": 5,
   "id": "243b1d26",
   "metadata": {},
   "outputs": [
    {
     "name": "stdout",
     "output_type": "stream",
     "text": [
      "<class 'pandas.core.frame.DataFrame'>\n",
      "RangeIndex: 40256 entries, 0 to 40255\n",
      "Data columns (total 12 columns):\n",
      " #   Column                                                Non-Null Count  Dtype         \n",
      "---  ------                                                --------------  -----         \n",
      " 0   id                                                    40256 non-null  object        \n",
      " 1   absolute_magnitude_h                                  40256 non-null  float64       \n",
      " 2   estimated_diameter_kilometers_estimated_diameter_min  40256 non-null  float64       \n",
      " 3   estimated_diameter_kilometers_estimated_diameter_max  40256 non-null  float64       \n",
      " 4   is_potentially_hazardous_asteroid                     40256 non-null  int64         \n",
      " 5   close_approach_date                                   40256 non-null  datetime64[ns]\n",
      " 6   relative_velocity_km_per_hr                           40256 non-null  float64       \n",
      " 7   miss_distance_kilometers                              40256 non-null  float64       \n",
      " 8   year                                                  40256 non-null  int32         \n",
      " 9   month                                                 40256 non-null  int32         \n",
      " 10  day                                                   40256 non-null  int32         \n",
      " 11  estimated_diameter_range                              40256 non-null  float64       \n",
      "dtypes: datetime64[ns](1), float64(6), int32(3), int64(1), object(1)\n",
      "memory usage: 3.2+ MB\n"
     ]
    }
   ],
   "source": [
    "df.info()"
   ]
  },
  {
   "cell_type": "code",
   "execution_count": 6,
   "id": "482c8eb6",
   "metadata": {},
   "outputs": [],
   "source": [
    "data = df[['absolute_magnitude_h','relative_velocity_km_per_hr', 'miss_distance_kilometers', 'year', 'month', 'day', 'estimated_diameter_range', 'is_potentially_hazardous_asteroid']]\n",
    "\n"
   ]
  },
  {
   "cell_type": "code",
   "execution_count": 7,
   "id": "025df5a8",
   "metadata": {},
   "outputs": [
    {
     "data": {
      "text/html": [
       "<div>\n",
       "<style scoped>\n",
       "    .dataframe tbody tr th:only-of-type {\n",
       "        vertical-align: middle;\n",
       "    }\n",
       "\n",
       "    .dataframe tbody tr th {\n",
       "        vertical-align: top;\n",
       "    }\n",
       "\n",
       "    .dataframe thead th {\n",
       "        text-align: right;\n",
       "    }\n",
       "</style>\n",
       "<table border=\"1\" class=\"dataframe\">\n",
       "  <thead>\n",
       "    <tr style=\"text-align: right;\">\n",
       "      <th></th>\n",
       "      <th>absolute_magnitude_h</th>\n",
       "      <th>relative_velocity_km_per_hr</th>\n",
       "      <th>miss_distance_kilometers</th>\n",
       "      <th>year</th>\n",
       "      <th>month</th>\n",
       "      <th>day</th>\n",
       "      <th>estimated_diameter_range</th>\n",
       "      <th>is_potentially_hazardous_asteroid</th>\n",
       "    </tr>\n",
       "  </thead>\n",
       "  <tbody>\n",
       "    <tr>\n",
       "      <th>0</th>\n",
       "      <td>10.40</td>\n",
       "      <td>20083.029075</td>\n",
       "      <td>4.711273e+07</td>\n",
       "      <td>1900</td>\n",
       "      <td>12</td>\n",
       "      <td>361</td>\n",
       "      <td>27.327338</td>\n",
       "      <td>0</td>\n",
       "    </tr>\n",
       "    <tr>\n",
       "      <th>1</th>\n",
       "      <td>15.59</td>\n",
       "      <td>12405.704411</td>\n",
       "      <td>2.556290e+08</td>\n",
       "      <td>1909</td>\n",
       "      <td>8</td>\n",
       "      <td>233</td>\n",
       "      <td>2.503787</td>\n",
       "      <td>0</td>\n",
       "    </tr>\n",
       "    <tr>\n",
       "      <th>2</th>\n",
       "      <td>13.81</td>\n",
       "      <td>25545.505209</td>\n",
       "      <td>2.046181e+07</td>\n",
       "      <td>1974</td>\n",
       "      <td>1</td>\n",
       "      <td>4</td>\n",
       "      <td>5.683257</td>\n",
       "      <td>0</td>\n",
       "    </tr>\n",
       "    <tr>\n",
       "      <th>3</th>\n",
       "      <td>9.18</td>\n",
       "      <td>22693.919080</td>\n",
       "      <td>2.926518e+08</td>\n",
       "      <td>1910</td>\n",
       "      <td>2</td>\n",
       "      <td>56</td>\n",
       "      <td>47.928886</td>\n",
       "      <td>0</td>\n",
       "    </tr>\n",
       "    <tr>\n",
       "      <th>4</th>\n",
       "      <td>17.37</td>\n",
       "      <td>38772.626612</td>\n",
       "      <td>2.751287e+07</td>\n",
       "      <td>1908</td>\n",
       "      <td>3</td>\n",
       "      <td>74</td>\n",
       "      <td>1.103055</td>\n",
       "      <td>0</td>\n",
       "    </tr>\n",
       "  </tbody>\n",
       "</table>\n",
       "</div>"
      ],
      "text/plain": [
       "   absolute_magnitude_h  relative_velocity_km_per_hr  \\\n",
       "0                 10.40                 20083.029075   \n",
       "1                 15.59                 12405.704411   \n",
       "2                 13.81                 25545.505209   \n",
       "3                  9.18                 22693.919080   \n",
       "4                 17.37                 38772.626612   \n",
       "\n",
       "   miss_distance_kilometers  year  month  day  estimated_diameter_range  \\\n",
       "0              4.711273e+07  1900     12  361                 27.327338   \n",
       "1              2.556290e+08  1909      8  233                  2.503787   \n",
       "2              2.046181e+07  1974      1    4                  5.683257   \n",
       "3              2.926518e+08  1910      2   56                 47.928886   \n",
       "4              2.751287e+07  1908      3   74                  1.103055   \n",
       "\n",
       "   is_potentially_hazardous_asteroid  \n",
       "0                                  0  \n",
       "1                                  0  \n",
       "2                                  0  \n",
       "3                                  0  \n",
       "4                                  0  "
      ]
     },
     "execution_count": 7,
     "metadata": {},
     "output_type": "execute_result"
    }
   ],
   "source": [
    "data.head()"
   ]
  },
  {
   "cell_type": "markdown",
   "id": "a83a2a06",
   "metadata": {},
   "source": [
    "This is the finished version of the feature engineered dataset. The scaling will be done after splitting the train and test data."
   ]
  },
  {
   "cell_type": "markdown",
   "id": "57d26631",
   "metadata": {},
   "source": []
  }
 ],
 "metadata": {
  "kernelspec": {
   "display_name": "Python 3",
   "language": "python",
   "name": "python3"
  },
  "language_info": {
   "codemirror_mode": {
    "name": "ipython",
    "version": 3
   },
   "file_extension": ".py",
   "mimetype": "text/x-python",
   "name": "python",
   "nbconvert_exporter": "python",
   "pygments_lexer": "ipython3",
   "version": "3.13.6"
  }
 },
 "nbformat": 4,
 "nbformat_minor": 5
}
